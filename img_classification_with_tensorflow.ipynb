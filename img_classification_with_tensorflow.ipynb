{
  "nbformat": 4,
  "nbformat_minor": 0,
  "metadata": {
    "colab": {
      "provenance": []
    },
    "kernelspec": {
      "name": "python3",
      "display_name": "Python 3"
    },
    "language_info": {
      "name": "python"
    }
  },
  "cells": [
    {
      "cell_type": "code",
      "execution_count": null,
      "metadata": {
        "id": "7DCJZrJUL5SO"
      },
      "outputs": [],
      "source": [
        "import tensorflow as tf\n",
        "import pandas as pd\n",
        "import numpy as np\n",
        "import matplotlib.pyplot as plt"
      ]
    },
    {
      "cell_type": "code",
      "source": [
        "from tensorflow.keras.datasets import cifar10"
      ],
      "metadata": {
        "id": "t6uUNPfKL8GA"
      },
      "execution_count": null,
      "outputs": []
    },
    {
      "cell_type": "code",
      "source": [
        "(train_data, train_label), (test_data, test_label) = cifar10.load_data()"
      ],
      "metadata": {
        "colab": {
          "base_uri": "https://localhost:8080/"
        },
        "id": "3wnECtPMMHET",
        "outputId": "2d1b83a9-8ebd-46a2-89bd-d2b33a099d5d"
      },
      "execution_count": null,
      "outputs": [
        {
          "output_type": "stream",
          "name": "stdout",
          "text": [
            "Downloading data from https://www.cs.toronto.edu/~kriz/cifar-10-python.tar.gz\n",
            "170498071/170498071 [==============================] - 11s 0us/step\n"
          ]
        }
      ]
    },
    {
      "cell_type": "code",
      "source": [
        "train_data.shape"
      ],
      "metadata": {
        "colab": {
          "base_uri": "https://localhost:8080/"
        },
        "id": "cDSQlrC6MTsN",
        "outputId": "176c8c72-b034-4bb0-ff5b-a5f2384f0bc3"
      },
      "execution_count": null,
      "outputs": [
        {
          "output_type": "execute_result",
          "data": {
            "text/plain": [
              "(50000, 32, 32, 3)"
            ]
          },
          "metadata": {},
          "execution_count": 4
        }
      ]
    },
    {
      "cell_type": "code",
      "source": [
        "train_data[0].shape"
      ],
      "metadata": {
        "colab": {
          "base_uri": "https://localhost:8080/"
        },
        "id": "jITJxEQYMVyL",
        "outputId": "d5c84dbf-7f28-4be1-eb7f-db0e14631391"
      },
      "execution_count": null,
      "outputs": [
        {
          "output_type": "execute_result",
          "data": {
            "text/plain": [
              "(32, 32, 3)"
            ]
          },
          "metadata": {},
          "execution_count": 44
        }
      ]
    },
    {
      "cell_type": "code",
      "source": [
        "train_label.shape"
      ],
      "metadata": {
        "colab": {
          "base_uri": "https://localhost:8080/"
        },
        "id": "v6yncNmkR0l4",
        "outputId": "770e1bbc-6e7a-4516-ac90-05adf10a537d"
      },
      "execution_count": null,
      "outputs": [
        {
          "output_type": "execute_result",
          "data": {
            "text/plain": [
              "(50000, 1)"
            ]
          },
          "metadata": {},
          "execution_count": 39
        }
      ]
    },
    {
      "cell_type": "code",
      "source": [
        "train_label[:5].shape"
      ],
      "metadata": {
        "colab": {
          "base_uri": "https://localhost:8080/"
        },
        "id": "4ZQehQBCTl9Q",
        "outputId": "852b67b2-aec4-47bd-c7be-31df23b4661c"
      },
      "execution_count": null,
      "outputs": [
        {
          "output_type": "execute_result",
          "data": {
            "text/plain": [
              "(5, 1)"
            ]
          },
          "metadata": {},
          "execution_count": 46
        }
      ]
    },
    {
      "cell_type": "code",
      "source": [
        "plt.imshow(train_data[9])"
      ],
      "metadata": {
        "colab": {
          "base_uri": "https://localhost:8080/",
          "height": 447
        },
        "id": "K2t_zC9TMasn",
        "outputId": "08c0288d-38e0-4855-bfda-ea83dd35f06a"
      },
      "execution_count": null,
      "outputs": [
        {
          "output_type": "execute_result",
          "data": {
            "text/plain": [
              "<matplotlib.image.AxesImage at 0x7e75189250f0>"
            ]
          },
          "metadata": {},
          "execution_count": 8
        },
        {
          "output_type": "display_data",
          "data": {
            "text/plain": [
              "<Figure size 640x480 with 1 Axes>"
            ],
            "image/png": "[encoded data removed]"
          },
          "metadata": {}
        }
      ]
    },
    {
      "cell_type": "code",
      "source": [
        "class_names = ['airplane', 'automobile', 'bird', 'cat', 'deer', 'dog ', 'frog ', 'horse ', 'ship ', 'truck']"
      ],
      "metadata": {
        "id": "HT7eeMLdMmbn"
      },
      "execution_count": null,
      "outputs": []
    },
    {
      "cell_type": "code",
      "source": [
        "plt.imshow(train_data[19])\n",
        "for i in train_label[19]:\n",
        "  plt.title(class_names[i])"
      ],
      "metadata": {
        "colab": {
          "base_uri": "https://localhost:8080/",
          "height": 452
        },
        "id": "PVB3fHeyNhoa",
        "outputId": "7cc47d57-22ad-4236-af02-d5809b6781fa"
      },
      "execution_count": null,
      "outputs": [
        {
          "output_type": "display_data",
          "data": {
            "text/plain": [
              "<Figure size 640x480 with 1 Axes>"
            ],
            "image/png": "[encoded data removed]"
          },
          "metadata": {}
        }
      ]
    },
    {
      "cell_type": "code",
      "source": [
        "import random\n",
        "plt.figure(figsize=(10, 10))\n",
        "\n",
        "for i in range(4):\n",
        "  ax = plt.subplot(2, 2, i+1)\n",
        "  rand_index = random.choice(range(len(train_data)))\n",
        "  plt.imshow(train_data[rand_index])\n",
        "  for i in train_label[rand_index]:\n",
        "    plt.title(class_names[i])\n",
        "  plt.axis(False)"
      ],
      "metadata": {
        "colab": {
          "base_uri": "https://localhost:8080/",
          "height": 829
        },
        "id": "u55pdripPdC0",
        "outputId": "5b4ac3aa-28bc-4cbf-88f0-6310c4592a7f"
      },
      "execution_count": null,
      "outputs": [
        {
          "output_type": "display_data",
          "data": {
            "text/plain": [
              "<Figure size 1000x1000 with 4 Axes>"
            ],
            "image/png": "[encoded data removed]"
          },
          "metadata": {}
        }
      ]
    },
    {
      "cell_type": "code",
      "source": [
        "train_data = train_data / 255.\n",
        "test_data = test_data / 255."
      ],
      "metadata": {
        "id": "bCRfI50OVJJE"
      },
      "execution_count": null,
      "outputs": []
    },
    {
      "cell_type": "code",
      "source": [
        "tf.random.set_seed(42)\n",
        "\n",
        "# create the model\n",
        "model = tf.keras.Sequential()\n",
        "model.add(tf.keras.layers.Flatten(input_shape=(32, 32, 3)))\n",
        "model.add(tf.keras.layers.Dense(100, activation='relu'))\n",
        "model.add(tf.keras.layers.Dense(100, activation='relu'))\n",
        "model.add(tf.keras.layers.Dense(100, activation='relu'))\n",
        "model.add(tf.keras.layers.Dense(10, activation='softmax'))\n",
        "\n",
        "# compile the model\n",
        "model.compile(loss=tf.keras.losses.SparseCategoricalCrossentropy(),\n",
        "              optimizer=tf.keras.optimizers.Adam(learning_rate=0.001),\n",
        "              metrics=['accuracy'])\n",
        "\n",
        "# fit the model\n",
        "model.fit(train_data,\n",
        "          train_label,\n",
        "          epochs=200,\n",
        "          validation_data=(test_data, test_label))"
      ],
      "metadata": {
        "colab": {
          "base_uri": "https://localhost:8080/"
        },
        "id": "IYmZRn1ZPtEa",
        "outputId": "6de2c472-8b6a-4424-ead9-c35ed6281b84"
      },
      "execution_count": null,
      "outputs": [
        {
          "output_type": "stream",
          "name": "stdout",
          "text": [
            "Epoch 1/200\n",
            "1563/1563 [==============================] - 14s 8ms/step - loss: 1.8557 - accuracy: 0.3289 - val_loss: 1.7351 - val_accuracy: 0.3829\n",
            "Epoch 2/200\n",
            "1563/1563 [==============================] - 12s 8ms/step - loss: 1.6987 - accuracy: 0.3924 - val_loss: 1.6722 - val_accuracy: 0.3948\n",
            "Epoch 3/200\n",
            "1563/1563 [==============================] - 13s 8ms/step - loss: 1.6336 - accuracy: 0.4159 - val_loss: 1.6028 - val_accuracy: 0.4345\n",
            "Epoch 4/200\n",
            "1563/1563 [==============================] - 13s 8ms/step - loss: 1.5838 - accuracy: 0.4323 - val_loss: 1.5922 - val_accuracy: 0.4319\n",
            "Epoch 5/200\n",
            "1563/1563 [==============================] - 12s 8ms/step - loss: 1.5523 - accuracy: 0.4424 - val_loss: 1.5484 - val_accuracy: 0.4490\n",
            "Epoch 6/200\n",
            "1563/1563 [==============================] - 11s 7ms/step - loss: 1.5269 - accuracy: 0.4516 - val_loss: 1.5313 - val_accuracy: 0.4558\n",
            "Epoch 7/200\n",
            "1563/1563 [==============================] - 12s 7ms/step - loss: 1.5063 - accuracy: 0.4591 - val_loss: 1.5544 - val_accuracy: 0.4478\n",
            "Epoch 8/200\n",
            "1563/1563 [==============================] - 13s 8ms/step - loss: 1.4867 - accuracy: 0.4663 - val_loss: 1.4949 - val_accuracy: 0.4608\n",
            "Epoch 9/200\n",
            "1563/1563 [==============================] - 12s 7ms/step - loss: 1.4720 - accuracy: 0.4717 - val_loss: 1.5366 - val_accuracy: 0.4616\n",
            "Epoch 10/200\n",
            "1563/1563 [==============================] - 12s 7ms/step - loss: 1.4508 - accuracy: 0.4777 - val_loss: 1.5076 - val_accuracy: 0.4601\n",
            "Epoch 11/200\n",
            "1563/1563 [==============================] - 11s 7ms/step - loss: 1.4435 - accuracy: 0.4817 - val_loss: 1.5209 - val_accuracy: 0.4596\n",
            "Epoch 12/200\n",
            "1563/1563 [==============================] - 12s 8ms/step - loss: 1.4332 - accuracy: 0.4873 - val_loss: 1.5047 - val_accuracy: 0.4628\n",
            "Epoch 13/200\n",
            "1563/1563 [==============================] - 12s 7ms/step - loss: 1.4201 - accuracy: 0.4891 - val_loss: 1.5205 - val_accuracy: 0.4600\n",
            "Epoch 14/200\n",
            "1563/1563 [==============================] - 10s 7ms/step - loss: 1.4050 - accuracy: 0.4930 - val_loss: 1.5097 - val_accuracy: 0.4582\n",
            "Epoch 15/200\n",
            "1563/1563 [==============================] - 11s 7ms/step - loss: 1.4009 - accuracy: 0.4964 - val_loss: 1.5115 - val_accuracy: 0.4607\n",
            "Epoch 16/200\n",
            "1563/1563 [==============================] - 12s 8ms/step - loss: 1.3936 - accuracy: 0.4995 - val_loss: 1.5115 - val_accuracy: 0.4671\n",
            "Epoch 17/200\n",
            "1563/1563 [==============================] - 11s 7ms/step - loss: 1.3825 - accuracy: 0.5030 - val_loss: 1.4730 - val_accuracy: 0.4768\n",
            "Epoch 18/200\n",
            "1563/1563 [==============================] - 11s 7ms/step - loss: 1.3773 - accuracy: 0.5048 - val_loss: 1.5740 - val_accuracy: 0.4451\n",
            "Epoch 19/200\n",
            "1563/1563 [==============================] - 11s 7ms/step - loss: 1.3700 - accuracy: 0.5083 - val_loss: 1.4686 - val_accuracy: 0.4819\n",
            "Epoch 20/200\n",
            "1563/1563 [==============================] - 11s 7ms/step - loss: 1.3583 - accuracy: 0.5103 - val_loss: 1.4973 - val_accuracy: 0.4699\n",
            "Epoch 21/200\n",
            "1563/1563 [==============================] - 11s 7ms/step - loss: 1.3499 - accuracy: 0.5157 - val_loss: 1.5058 - val_accuracy: 0.4695\n",
            "Epoch 22/200\n",
            "1563/1563 [==============================] - 11s 7ms/step - loss: 1.3478 - accuracy: 0.5152 - val_loss: 1.4853 - val_accuracy: 0.4762\n",
            "Epoch 23/200\n",
            "1563/1563 [==============================] - 11s 7ms/step - loss: 1.3468 - accuracy: 0.5165 - val_loss: 1.4701 - val_accuracy: 0.4858\n",
            "Epoch 24/200\n",
            "1563/1563 [==============================] - 11s 7ms/step - loss: 1.3339 - accuracy: 0.5211 - val_loss: 1.4931 - val_accuracy: 0.4776\n",
            "Epoch 25/200\n",
            "1563/1563 [==============================] - 11s 7ms/step - loss: 1.3342 - accuracy: 0.5205 - val_loss: 1.4693 - val_accuracy: 0.4874\n",
            "Epoch 26/200\n",
            "1563/1563 [==============================] - 10s 7ms/step - loss: 1.3244 - accuracy: 0.5241 - val_loss: 1.4689 - val_accuracy: 0.4836\n",
            "Epoch 27/200\n",
            "1563/1563 [==============================] - 10s 7ms/step - loss: 1.3162 - accuracy: 0.5251 - val_loss: 1.5073 - val_accuracy: 0.4757\n",
            "Epoch 28/200\n",
            "1563/1563 [==============================] - 11s 7ms/step - loss: 1.3140 - accuracy: 0.5281 - val_loss: 1.5017 - val_accuracy: 0.4721\n",
            "Epoch 29/200\n",
            "1563/1563 [==============================] - 11s 7ms/step - loss: 1.3139 - accuracy: 0.5268 - val_loss: 1.4764 - val_accuracy: 0.4807\n",
            "Epoch 30/200\n",
            "1563/1563 [==============================] - 11s 7ms/step - loss: 1.3066 - accuracy: 0.5297 - val_loss: 1.4989 - val_accuracy: 0.4720\n",
            "Epoch 31/200\n",
            "1563/1563 [==============================] - 11s 7ms/step - loss: 1.3043 - accuracy: 0.5306 - val_loss: 1.4758 - val_accuracy: 0.4813\n",
            "Epoch 32/200\n",
            "1563/1563 [==============================] - 11s 7ms/step - loss: 1.2971 - accuracy: 0.5303 - val_loss: 1.5141 - val_accuracy: 0.4718\n",
            "Epoch 33/200\n",
            "1563/1563 [==============================] - 12s 8ms/step - loss: 1.2954 - accuracy: 0.5340 - val_loss: 1.5031 - val_accuracy: 0.4834\n",
            "Epoch 34/200\n",
            "1563/1563 [==============================] - 12s 8ms/step - loss: 1.2905 - accuracy: 0.5331 - val_loss: 1.5196 - val_accuracy: 0.4719\n",
            "Epoch 35/200\n",
            "1563/1563 [==============================] - 12s 8ms/step - loss: 1.2825 - accuracy: 0.5374 - val_loss: 1.4931 - val_accuracy: 0.4767\n",
            "Epoch 36/200\n",
            "1563/1563 [==============================] - 12s 8ms/step - loss: 1.2802 - accuracy: 0.5399 - val_loss: 1.5040 - val_accuracy: 0.4789\n",
            "Epoch 37/200\n",
            "1563/1563 [==============================] - 11s 7ms/step - loss: 1.2782 - accuracy: 0.5382 - val_loss: 1.5377 - val_accuracy: 0.4691\n",
            "Epoch 38/200\n",
            "1563/1563 [==============================] - 11s 7ms/step - loss: 1.2706 - accuracy: 0.5415 - val_loss: 1.5118 - val_accuracy: 0.4739\n",
            "Epoch 39/200\n",
            "1563/1563 [==============================] - 10s 7ms/step - loss: 1.2691 - accuracy: 0.5424 - val_loss: 1.5193 - val_accuracy: 0.4767\n",
            "Epoch 40/200\n",
            "1563/1563 [==============================] - 12s 7ms/step - loss: 1.2629 - accuracy: 0.5456 - val_loss: 1.5060 - val_accuracy: 0.4801\n",
            "Epoch 41/200\n",
            "1563/1563 [==============================] - 12s 8ms/step - loss: 1.2623 - accuracy: 0.5461 - val_loss: 1.5146 - val_accuracy: 0.4795\n",
            "Epoch 42/200\n",
            "1563/1563 [==============================] - 12s 7ms/step - loss: 1.2581 - accuracy: 0.5447 - val_loss: 1.4971 - val_accuracy: 0.4773\n",
            "Epoch 43/200\n",
            "1563/1563 [==============================] - 11s 7ms/step - loss: 1.2542 - accuracy: 0.5475 - val_loss: 1.5152 - val_accuracy: 0.4778\n",
            "Epoch 44/200\n",
            "1563/1563 [==============================] - 11s 7ms/step - loss: 1.2496 - accuracy: 0.5497 - val_loss: 1.5181 - val_accuracy: 0.4803\n",
            "Epoch 45/200\n",
            "1563/1563 [==============================] - 11s 7ms/step - loss: 1.2508 - accuracy: 0.5473 - val_loss: 1.5390 - val_accuracy: 0.4727\n",
            "Epoch 46/200\n",
            "1563/1563 [==============================] - 12s 8ms/step - loss: 1.2425 - accuracy: 0.5526 - val_loss: 1.5565 - val_accuracy: 0.4700\n",
            "Epoch 47/200\n",
            "1563/1563 [==============================] - 12s 8ms/step - loss: 1.2400 - accuracy: 0.5523 - val_loss: 1.4952 - val_accuracy: 0.4912\n",
            "Epoch 48/200\n",
            "1563/1563 [==============================] - 11s 7ms/step - loss: 1.2369 - accuracy: 0.5528 - val_loss: 1.5177 - val_accuracy: 0.4796\n",
            "Epoch 49/200\n",
            "1563/1563 [==============================] - 11s 7ms/step - loss: 1.2381 - accuracy: 0.5550 - val_loss: 1.5450 - val_accuracy: 0.4766\n",
            "Epoch 50/200\n",
            "1563/1563 [==============================] - 11s 7ms/step - loss: 1.2324 - accuracy: 0.5535 - val_loss: 1.5204 - val_accuracy: 0.4794\n",
            "Epoch 51/200\n",
            "1563/1563 [==============================] - 10s 7ms/step - loss: 1.2315 - accuracy: 0.5555 - val_loss: 1.5256 - val_accuracy: 0.4819\n",
            "Epoch 52/200\n",
            "1563/1563 [==============================] - 12s 8ms/step - loss: 1.2249 - accuracy: 0.5578 - val_loss: 1.5454 - val_accuracy: 0.4743\n",
            "Epoch 53/200\n",
            "1563/1563 [==============================] - 12s 8ms/step - loss: 1.2236 - accuracy: 0.5568 - val_loss: 1.5696 - val_accuracy: 0.4642\n",
            "Epoch 54/200\n",
            "1563/1563 [==============================] - 14s 9ms/step - loss: 1.2207 - accuracy: 0.5589 - val_loss: 1.5132 - val_accuracy: 0.4813\n",
            "Epoch 55/200\n",
            "1563/1563 [==============================] - 12s 8ms/step - loss: 1.2236 - accuracy: 0.5573 - val_loss: 1.5396 - val_accuracy: 0.4769\n",
            "Epoch 56/200\n",
            "1563/1563 [==============================] - 12s 7ms/step - loss: 1.2136 - accuracy: 0.5623 - val_loss: 1.5411 - val_accuracy: 0.4745\n",
            "Epoch 57/200\n",
            "1563/1563 [==============================] - 11s 7ms/step - loss: 1.2148 - accuracy: 0.5643 - val_loss: 1.5293 - val_accuracy: 0.4751\n",
            "Epoch 58/200\n",
            "1563/1563 [==============================] - 11s 7ms/step - loss: 1.2099 - accuracy: 0.5626 - val_loss: 1.5530 - val_accuracy: 0.4754\n",
            "Epoch 59/200\n",
            "1563/1563 [==============================] - 11s 7ms/step - loss: 1.2061 - accuracy: 0.5650 - val_loss: 1.5502 - val_accuracy: 0.4800\n",
            "Epoch 60/200\n",
            "1563/1563 [==============================] - 12s 8ms/step - loss: 1.2044 - accuracy: 0.5665 - val_loss: 1.5669 - val_accuracy: 0.4660\n",
            "Epoch 61/200\n",
            "1563/1563 [==============================] - 11s 7ms/step - loss: 1.2044 - accuracy: 0.5630 - val_loss: 1.5443 - val_accuracy: 0.4790\n",
            "Epoch 62/200\n",
            "1563/1563 [==============================] - 11s 7ms/step - loss: 1.2009 - accuracy: 0.5642 - val_loss: 1.5587 - val_accuracy: 0.4712\n",
            "Epoch 63/200\n",
            "1563/1563 [==============================] - 11s 7ms/step - loss: 1.2025 - accuracy: 0.5665 - val_loss: 1.5420 - val_accuracy: 0.4716\n",
            "Epoch 64/200\n",
            "1563/1563 [==============================] - 11s 7ms/step - loss: 1.2002 - accuracy: 0.5678 - val_loss: 1.5564 - val_accuracy: 0.4782\n",
            "Epoch 65/200\n",
            "1563/1563 [==============================] - 11s 7ms/step - loss: 1.1953 - accuracy: 0.5672 - val_loss: 1.5900 - val_accuracy: 0.4618\n",
            "Epoch 66/200\n",
            "1563/1563 [==============================] - 11s 7ms/step - loss: 1.1980 - accuracy: 0.5663 - val_loss: 1.5615 - val_accuracy: 0.4699\n",
            "Epoch 67/200\n",
            "1563/1563 [==============================] - 11s 7ms/step - loss: 1.1922 - accuracy: 0.5658 - val_loss: 1.5664 - val_accuracy: 0.4753\n",
            "Epoch 68/200\n",
            "1563/1563 [==============================] - 11s 7ms/step - loss: 1.1873 - accuracy: 0.5698 - val_loss: 1.5694 - val_accuracy: 0.4752\n",
            "Epoch 69/200\n",
            "1563/1563 [==============================] - 11s 7ms/step - loss: 1.1855 - accuracy: 0.5703 - val_loss: 1.5923 - val_accuracy: 0.4783\n",
            "Epoch 70/200\n",
            "1563/1563 [==============================] - 11s 7ms/step - loss: 1.1873 - accuracy: 0.5694 - val_loss: 1.5810 - val_accuracy: 0.4784\n",
            "Epoch 71/200\n",
            "1563/1563 [==============================] - 11s 7ms/step - loss: 1.1824 - accuracy: 0.5702 - val_loss: 1.6038 - val_accuracy: 0.4624\n",
            "Epoch 72/200\n",
            "1563/1563 [==============================] - 11s 7ms/step - loss: 1.1803 - accuracy: 0.5721 - val_loss: 1.5755 - val_accuracy: 0.4751\n",
            "Epoch 73/200\n",
            "1563/1563 [==============================] - 11s 7ms/step - loss: 1.1769 - accuracy: 0.5746 - val_loss: 1.5609 - val_accuracy: 0.4718\n",
            "Epoch 74/200\n",
            "1563/1563 [==============================] - 12s 7ms/step - loss: 1.1730 - accuracy: 0.5758 - val_loss: 1.5915 - val_accuracy: 0.4750\n",
            "Epoch 75/200\n",
            "1563/1563 [==============================] - 11s 7ms/step - loss: 1.1764 - accuracy: 0.5740 - val_loss: 1.6272 - val_accuracy: 0.4636\n",
            "Epoch 76/200\n",
            "1563/1563 [==============================] - 10s 6ms/step - loss: 1.1684 - accuracy: 0.5758 - val_loss: 1.6504 - val_accuracy: 0.4666\n",
            "Epoch 77/200\n",
            "1563/1563 [==============================] - 11s 7ms/step - loss: 1.1722 - accuracy: 0.5752 - val_loss: 1.5942 - val_accuracy: 0.4746\n",
            "Epoch 78/200\n",
            "1563/1563 [==============================] - 12s 8ms/step - loss: 1.1693 - accuracy: 0.5777 - val_loss: 1.6104 - val_accuracy: 0.4670\n",
            "Epoch 79/200\n",
            "1563/1563 [==============================] - 12s 8ms/step - loss: 1.1684 - accuracy: 0.5752 - val_loss: 1.6465 - val_accuracy: 0.4550\n",
            "Epoch 80/200\n",
            "1563/1563 [==============================] - 12s 8ms/step - loss: 1.1692 - accuracy: 0.5762 - val_loss: 1.5760 - val_accuracy: 0.4707\n",
            "Epoch 81/200\n",
            "1563/1563 [==============================] - 11s 7ms/step - loss: 1.1658 - accuracy: 0.5768 - val_loss: 1.5963 - val_accuracy: 0.4731\n",
            "Epoch 82/200\n",
            "1563/1563 [==============================] - 11s 7ms/step - loss: 1.1616 - accuracy: 0.5789 - val_loss: 1.6023 - val_accuracy: 0.4746\n",
            "Epoch 83/200\n",
            "1563/1563 [==============================] - 12s 8ms/step - loss: 1.1581 - accuracy: 0.5804 - val_loss: 1.6061 - val_accuracy: 0.4731\n",
            "Epoch 84/200\n",
            "1563/1563 [==============================] - 11s 7ms/step - loss: 1.1577 - accuracy: 0.5812 - val_loss: 1.6303 - val_accuracy: 0.4611\n",
            "Epoch 85/200\n",
            "1563/1563 [==============================] - 12s 8ms/step - loss: 1.1611 - accuracy: 0.5794 - val_loss: 1.5863 - val_accuracy: 0.4790\n",
            "Epoch 86/200\n",
            "1563/1563 [==============================] - 12s 7ms/step - loss: 1.1567 - accuracy: 0.5801 - val_loss: 1.6012 - val_accuracy: 0.4630\n",
            "Epoch 87/200\n",
            "1563/1563 [==============================] - 11s 7ms/step - loss: 1.1565 - accuracy: 0.5806 - val_loss: 1.6108 - val_accuracy: 0.4727\n",
            "Epoch 88/200\n",
            "1563/1563 [==============================] - 12s 8ms/step - loss: 1.1513 - accuracy: 0.5823 - val_loss: 1.6399 - val_accuracy: 0.4619\n",
            "Epoch 89/200\n",
            "1563/1563 [==============================] - 11s 7ms/step - loss: 1.1555 - accuracy: 0.5840 - val_loss: 1.6222 - val_accuracy: 0.4712\n",
            "Epoch 90/200\n",
            "1563/1563 [==============================] - 11s 7ms/step - loss: 1.1504 - accuracy: 0.5820 - val_loss: 1.6472 - val_accuracy: 0.4662\n",
            "Epoch 91/200\n",
            "1563/1563 [==============================] - 12s 8ms/step - loss: 1.1468 - accuracy: 0.5834 - val_loss: 1.6383 - val_accuracy: 0.4716\n",
            "Epoch 92/200\n",
            "1563/1563 [==============================] - 11s 7ms/step - loss: 1.1420 - accuracy: 0.5851 - val_loss: 1.6990 - val_accuracy: 0.4541\n",
            "Epoch 93/200\n",
            "1563/1563 [==============================] - 11s 7ms/step - loss: 1.1448 - accuracy: 0.5845 - val_loss: 1.6531 - val_accuracy: 0.4648\n",
            "Epoch 94/200\n",
            "1563/1563 [==============================] - 12s 8ms/step - loss: 1.1422 - accuracy: 0.5856 - val_loss: 1.6709 - val_accuracy: 0.4577\n",
            "Epoch 95/200\n",
            "1563/1563 [==============================] - 12s 7ms/step - loss: 1.1473 - accuracy: 0.5840 - val_loss: 1.6496 - val_accuracy: 0.4660\n",
            "Epoch 96/200\n",
            "1563/1563 [==============================] - 12s 8ms/step - loss: 1.1406 - accuracy: 0.5860 - val_loss: 1.6518 - val_accuracy: 0.4614\n",
            "Epoch 97/200\n",
            "1563/1563 [==============================] - 11s 7ms/step - loss: 1.1398 - accuracy: 0.5887 - val_loss: 1.6416 - val_accuracy: 0.4657\n",
            "Epoch 98/200\n",
            "1563/1563 [==============================] - 11s 7ms/step - loss: 1.1394 - accuracy: 0.5880 - val_loss: 1.6361 - val_accuracy: 0.4697\n",
            "Epoch 99/200\n",
            "1563/1563 [==============================] - 11s 7ms/step - loss: 1.1352 - accuracy: 0.5884 - val_loss: 1.6879 - val_accuracy: 0.4562\n",
            "Epoch 100/200\n",
            "1563/1563 [==============================] - 12s 7ms/step - loss: 1.1335 - accuracy: 0.5880 - val_loss: 1.6675 - val_accuracy: 0.4597\n",
            "Epoch 101/200\n",
            "1563/1563 [==============================] - 11s 7ms/step - loss: 1.1280 - accuracy: 0.5895 - val_loss: 1.6514 - val_accuracy: 0.4657\n",
            "Epoch 102/200\n",
            "1563/1563 [==============================] - 11s 7ms/step - loss: 1.1312 - accuracy: 0.5898 - val_loss: 1.6574 - val_accuracy: 0.4681\n",
            "Epoch 103/200\n",
            "1563/1563 [==============================] - 10s 6ms/step - loss: 1.1309 - accuracy: 0.5910 - val_loss: 1.6343 - val_accuracy: 0.4700\n",
            "Epoch 104/200\n",
            "1563/1563 [==============================] - 11s 7ms/step - loss: 1.1258 - accuracy: 0.5898 - val_loss: 1.6995 - val_accuracy: 0.4652\n",
            "Epoch 105/200\n",
            "1563/1563 [==============================] - 12s 8ms/step - loss: 1.1246 - accuracy: 0.5908 - val_loss: 1.6892 - val_accuracy: 0.4587\n",
            "Epoch 106/200\n",
            "1563/1563 [==============================] - 12s 8ms/step - loss: 1.1247 - accuracy: 0.5923 - val_loss: 1.6659 - val_accuracy: 0.4624\n",
            "Epoch 107/200\n",
            "1563/1563 [==============================] - 11s 7ms/step - loss: 1.1267 - accuracy: 0.5921 - val_loss: 1.6774 - val_accuracy: 0.4625\n",
            "Epoch 108/200\n",
            "1563/1563 [==============================] - 12s 7ms/step - loss: 1.1249 - accuracy: 0.5913 - val_loss: 1.7086 - val_accuracy: 0.4565\n",
            "Epoch 109/200\n",
            "1563/1563 [==============================] - 11s 7ms/step - loss: 1.1196 - accuracy: 0.5932 - val_loss: 1.6920 - val_accuracy: 0.4566\n",
            "Epoch 110/200\n",
            "1563/1563 [==============================] - 11s 7ms/step - loss: 1.1218 - accuracy: 0.5934 - val_loss: 1.6790 - val_accuracy: 0.4680\n",
            "Epoch 111/200\n",
            "1563/1563 [==============================] - 11s 7ms/step - loss: 1.1164 - accuracy: 0.5960 - val_loss: 1.6759 - val_accuracy: 0.4621\n",
            "Epoch 112/200\n",
            "1563/1563 [==============================] - 11s 7ms/step - loss: 1.1151 - accuracy: 0.5938 - val_loss: 1.6851 - val_accuracy: 0.4637\n",
            "Epoch 113/200\n",
            "1563/1563 [==============================] - 11s 7ms/step - loss: 1.1108 - accuracy: 0.5962 - val_loss: 1.7543 - val_accuracy: 0.4592\n",
            "Epoch 114/200\n",
            "1563/1563 [==============================] - 11s 7ms/step - loss: 1.1148 - accuracy: 0.5978 - val_loss: 1.7241 - val_accuracy: 0.4595\n",
            "Epoch 115/200\n",
            "1563/1563 [==============================] - 11s 7ms/step - loss: 1.1128 - accuracy: 0.5961 - val_loss: 1.6622 - val_accuracy: 0.4684\n",
            "Epoch 116/200\n",
            "1563/1563 [==============================] - 11s 7ms/step - loss: 1.1132 - accuracy: 0.5974 - val_loss: 1.7100 - val_accuracy: 0.4551\n",
            "Epoch 117/200\n",
            "1563/1563 [==============================] - 12s 8ms/step - loss: 1.1085 - accuracy: 0.5979 - val_loss: 1.7045 - val_accuracy: 0.4628\n",
            "Epoch 118/200\n",
            "1563/1563 [==============================] - 11s 7ms/step - loss: 1.1107 - accuracy: 0.5969 - val_loss: 1.7233 - val_accuracy: 0.4555\n",
            "Epoch 119/200\n",
            "1563/1563 [==============================] - 12s 8ms/step - loss: 1.1151 - accuracy: 0.5957 - val_loss: 1.7262 - val_accuracy: 0.4588\n",
            "Epoch 120/200\n",
            "1563/1563 [==============================] - 12s 8ms/step - loss: 1.1097 - accuracy: 0.5960 - val_loss: 1.6678 - val_accuracy: 0.4694\n",
            "Epoch 121/200\n",
            "1563/1563 [==============================] - 12s 7ms/step - loss: 1.1092 - accuracy: 0.5956 - val_loss: 1.6929 - val_accuracy: 0.4678\n",
            "Epoch 122/200\n",
            "1563/1563 [==============================] - 11s 7ms/step - loss: 1.1054 - accuracy: 0.5978 - val_loss: 1.7181 - val_accuracy: 0.4654\n",
            "Epoch 123/200\n",
            "1563/1563 [==============================] - 12s 7ms/step - loss: 1.1056 - accuracy: 0.5993 - val_loss: 1.6932 - val_accuracy: 0.4602\n",
            "Epoch 124/200\n",
            "1563/1563 [==============================] - 11s 7ms/step - loss: 1.1040 - accuracy: 0.5979 - val_loss: 1.7285 - val_accuracy: 0.4567\n",
            "Epoch 125/200\n",
            "1563/1563 [==============================] - 11s 7ms/step - loss: 1.1002 - accuracy: 0.5993 - val_loss: 1.7115 - val_accuracy: 0.4561\n",
            "Epoch 126/200\n",
            "1563/1563 [==============================] - 12s 7ms/step - loss: 1.1026 - accuracy: 0.5986 - val_loss: 1.7257 - val_accuracy: 0.4627\n",
            "Epoch 127/200\n",
            "1563/1563 [==============================] - 11s 7ms/step - loss: 1.0994 - accuracy: 0.5988 - val_loss: 1.7270 - val_accuracy: 0.4611\n",
            "Epoch 128/200\n",
            "1563/1563 [==============================] - 11s 7ms/step - loss: 1.1041 - accuracy: 0.5969 - val_loss: 1.7100 - val_accuracy: 0.4642\n",
            "Epoch 129/200\n",
            "1563/1563 [==============================] - 11s 7ms/step - loss: 1.1008 - accuracy: 0.5997 - val_loss: 1.7416 - val_accuracy: 0.4597\n",
            "Epoch 130/200\n",
            "1563/1563 [==============================] - 12s 8ms/step - loss: 1.1043 - accuracy: 0.5975 - val_loss: 1.7941 - val_accuracy: 0.4533\n",
            "Epoch 131/200\n",
            "1563/1563 [==============================] - 12s 7ms/step - loss: 1.0967 - accuracy: 0.5999 - val_loss: 1.7330 - val_accuracy: 0.4590\n",
            "Epoch 132/200\n",
            "1563/1563 [==============================] - 12s 7ms/step - loss: 1.0917 - accuracy: 0.6046 - val_loss: 1.7427 - val_accuracy: 0.4596\n",
            "Epoch 133/200\n",
            "1563/1563 [==============================] - 11s 7ms/step - loss: 1.0971 - accuracy: 0.6000 - val_loss: 1.7152 - val_accuracy: 0.4592\n",
            "Epoch 134/200\n",
            "1563/1563 [==============================] - 11s 7ms/step - loss: 1.0936 - accuracy: 0.6002 - val_loss: 1.7946 - val_accuracy: 0.4550\n",
            "Epoch 135/200\n",
            "1563/1563 [==============================] - 11s 7ms/step - loss: 1.0945 - accuracy: 0.6039 - val_loss: 1.7259 - val_accuracy: 0.4638\n",
            "Epoch 136/200\n",
            "1563/1563 [==============================] - 11s 7ms/step - loss: 1.0901 - accuracy: 0.6044 - val_loss: 1.7621 - val_accuracy: 0.4446\n",
            "Epoch 137/200\n",
            "1563/1563 [==============================] - 11s 7ms/step - loss: 1.0899 - accuracy: 0.6036 - val_loss: 1.7298 - val_accuracy: 0.4582\n",
            "Epoch 138/200\n",
            "1563/1563 [==============================] - 12s 7ms/step - loss: 1.0938 - accuracy: 0.6009 - val_loss: 1.7637 - val_accuracy: 0.4503\n",
            "Epoch 139/200\n",
            "1563/1563 [==============================] - 11s 7ms/step - loss: 1.0886 - accuracy: 0.6049 - val_loss: 1.7561 - val_accuracy: 0.4577\n",
            "Epoch 140/200\n",
            "1563/1563 [==============================] - 11s 7ms/step - loss: 1.0850 - accuracy: 0.6054 - val_loss: 1.7972 - val_accuracy: 0.4509\n",
            "Epoch 141/200\n",
            "1563/1563 [==============================] - 11s 7ms/step - loss: 1.0930 - accuracy: 0.6009 - val_loss: 1.7586 - val_accuracy: 0.4596\n",
            "Epoch 142/200\n",
            "1563/1563 [==============================] - 11s 7ms/step - loss: 1.0879 - accuracy: 0.6049 - val_loss: 1.7153 - val_accuracy: 0.4642\n",
            "Epoch 143/200\n",
            "1563/1563 [==============================] - 11s 7ms/step - loss: 1.0823 - accuracy: 0.6063 - val_loss: 1.7341 - val_accuracy: 0.4617\n",
            "Epoch 144/200\n",
            "1563/1563 [==============================] - 12s 8ms/step - loss: 1.0883 - accuracy: 0.6053 - val_loss: 1.7411 - val_accuracy: 0.4603\n",
            "Epoch 145/200\n",
            "1563/1563 [==============================] - 12s 8ms/step - loss: 1.0830 - accuracy: 0.6079 - val_loss: 1.7862 - val_accuracy: 0.4551\n",
            "Epoch 146/200\n",
            "1563/1563 [==============================] - 11s 7ms/step - loss: 1.0816 - accuracy: 0.6067 - val_loss: 1.7704 - val_accuracy: 0.4566\n",
            "Epoch 147/200\n",
            "1563/1563 [==============================] - 11s 7ms/step - loss: 1.0830 - accuracy: 0.6069 - val_loss: 1.7757 - val_accuracy: 0.4608\n",
            "Epoch 148/200\n",
            "1563/1563 [==============================] - 11s 7ms/step - loss: 1.0786 - accuracy: 0.6076 - val_loss: 1.7456 - val_accuracy: 0.4607\n",
            "Epoch 149/200\n",
            "1563/1563 [==============================] - 11s 7ms/step - loss: 1.0756 - accuracy: 0.6076 - val_loss: 1.7799 - val_accuracy: 0.4596\n",
            "Epoch 150/200\n",
            "1563/1563 [==============================] - 11s 7ms/step - loss: 1.0789 - accuracy: 0.6099 - val_loss: 1.7539 - val_accuracy: 0.4651\n",
            "Epoch 151/200\n",
            "1563/1563 [==============================] - 10s 7ms/step - loss: 1.0752 - accuracy: 0.6069 - val_loss: 1.8061 - val_accuracy: 0.4591\n",
            "Epoch 152/200\n",
            "1563/1563 [==============================] - 11s 7ms/step - loss: 1.0796 - accuracy: 0.6068 - val_loss: 1.7940 - val_accuracy: 0.4544\n",
            "Epoch 153/200\n",
            "1563/1563 [==============================] - 11s 7ms/step - loss: 1.0762 - accuracy: 0.6083 - val_loss: 1.7547 - val_accuracy: 0.4659\n",
            "Epoch 154/200\n",
            "1563/1563 [==============================] - 11s 7ms/step - loss: 1.0723 - accuracy: 0.6073 - val_loss: 1.7858 - val_accuracy: 0.4572\n",
            "Epoch 155/200\n",
            "1563/1563 [==============================] - 11s 7ms/step - loss: 1.0748 - accuracy: 0.6092 - val_loss: 1.7539 - val_accuracy: 0.4639\n",
            "Epoch 156/200\n",
            "1563/1563 [==============================] - 12s 7ms/step - loss: 1.0719 - accuracy: 0.6083 - val_loss: 1.7669 - val_accuracy: 0.4614\n",
            "Epoch 157/200\n",
            "1563/1563 [==============================] - 11s 7ms/step - loss: 1.0691 - accuracy: 0.6120 - val_loss: 1.7912 - val_accuracy: 0.4531\n",
            "Epoch 158/200\n",
            "1563/1563 [==============================] - 11s 7ms/step - loss: 1.0700 - accuracy: 0.6084 - val_loss: 1.7796 - val_accuracy: 0.4597\n",
            "Epoch 159/200\n",
            "1563/1563 [==============================] - 11s 7ms/step - loss: 1.0799 - accuracy: 0.6067 - val_loss: 1.8606 - val_accuracy: 0.4489\n",
            "Epoch 160/200\n",
            "1563/1563 [==============================] - 11s 7ms/step - loss: 1.0696 - accuracy: 0.6101 - val_loss: 1.8412 - val_accuracy: 0.4527\n",
            "Epoch 161/200\n",
            "1563/1563 [==============================] - 11s 7ms/step - loss: 1.0705 - accuracy: 0.6114 - val_loss: 1.8213 - val_accuracy: 0.4500\n",
            "Epoch 162/200\n",
            "1563/1563 [==============================] - 11s 7ms/step - loss: 1.0678 - accuracy: 0.6112 - val_loss: 1.8257 - val_accuracy: 0.4559\n",
            "Epoch 163/200\n",
            "1563/1563 [==============================] - 10s 6ms/step - loss: 1.0723 - accuracy: 0.6105 - val_loss: 1.7937 - val_accuracy: 0.4552\n",
            "Epoch 164/200\n",
            "1563/1563 [==============================] - 12s 8ms/step - loss: 1.0680 - accuracy: 0.6126 - val_loss: 1.8223 - val_accuracy: 0.4520\n",
            "Epoch 165/200\n",
            "1563/1563 [==============================] - 11s 7ms/step - loss: 1.0610 - accuracy: 0.6128 - val_loss: 1.8047 - val_accuracy: 0.4593\n",
            "Epoch 166/200\n",
            "1563/1563 [==============================] - 12s 7ms/step - loss: 1.0638 - accuracy: 0.6119 - val_loss: 1.8041 - val_accuracy: 0.4552\n",
            "Epoch 167/200\n",
            "1563/1563 [==============================] - 11s 7ms/step - loss: 1.0674 - accuracy: 0.6100 - val_loss: 1.8059 - val_accuracy: 0.4550\n",
            "Epoch 168/200\n",
            "1563/1563 [==============================] - 11s 7ms/step - loss: 1.0675 - accuracy: 0.6091 - val_loss: 1.7888 - val_accuracy: 0.4569\n",
            "Epoch 169/200\n",
            "1563/1563 [==============================] - 10s 6ms/step - loss: 1.0617 - accuracy: 0.6147 - val_loss: 1.8088 - val_accuracy: 0.4542\n",
            "Epoch 170/200\n",
            "1563/1563 [==============================] - 13s 8ms/step - loss: 1.0609 - accuracy: 0.6149 - val_loss: 1.8089 - val_accuracy: 0.4602\n",
            "Epoch 171/200\n",
            "1563/1563 [==============================] - 11s 7ms/step - loss: 1.0620 - accuracy: 0.6148 - val_loss: 1.8328 - val_accuracy: 0.4564\n",
            "Epoch 172/200\n",
            "1563/1563 [==============================] - 11s 7ms/step - loss: 1.0633 - accuracy: 0.6122 - val_loss: 1.8299 - val_accuracy: 0.4558\n",
            "Epoch 173/200\n",
            "1563/1563 [==============================] - 11s 7ms/step - loss: 1.0602 - accuracy: 0.6144 - val_loss: 1.8078 - val_accuracy: 0.4605\n",
            "Epoch 174/200\n",
            "1563/1563 [==============================] - 12s 7ms/step - loss: 1.0565 - accuracy: 0.6180 - val_loss: 1.8180 - val_accuracy: 0.4539\n",
            "Epoch 175/200\n",
            "1563/1563 [==============================] - 11s 7ms/step - loss: 1.0560 - accuracy: 0.6149 - val_loss: 1.8420 - val_accuracy: 0.4551\n",
            "Epoch 176/200\n",
            "1563/1563 [==============================] - 11s 7ms/step - loss: 1.0580 - accuracy: 0.6121 - val_loss: 1.8382 - val_accuracy: 0.4563\n",
            "Epoch 177/200\n",
            "1563/1563 [==============================] - 11s 7ms/step - loss: 1.0536 - accuracy: 0.6174 - val_loss: 1.8241 - val_accuracy: 0.4566\n",
            "Epoch 178/200\n",
            "1563/1563 [==============================] - 11s 7ms/step - loss: 1.0532 - accuracy: 0.6175 - val_loss: 1.8370 - val_accuracy: 0.4529\n",
            "Epoch 179/200\n",
            "1563/1563 [==============================] - 11s 7ms/step - loss: 1.0604 - accuracy: 0.6142 - val_loss: 1.8319 - val_accuracy: 0.4556\n",
            "Epoch 180/200\n",
            "1563/1563 [==============================] - 10s 7ms/step - loss: 1.0579 - accuracy: 0.6152 - val_loss: 1.7984 - val_accuracy: 0.4614\n",
            "Epoch 181/200\n",
            "1563/1563 [==============================] - 12s 8ms/step - loss: 1.0585 - accuracy: 0.6157 - val_loss: 1.8223 - val_accuracy: 0.4540\n",
            "Epoch 182/200\n",
            "1563/1563 [==============================] - 11s 7ms/step - loss: 1.0546 - accuracy: 0.6182 - val_loss: 1.8384 - val_accuracy: 0.4565\n",
            "Epoch 183/200\n",
            "1563/1563 [==============================] - 11s 7ms/step - loss: 1.0520 - accuracy: 0.6173 - val_loss: 1.8372 - val_accuracy: 0.4569\n",
            "Epoch 184/200\n",
            "1563/1563 [==============================] - 12s 7ms/step - loss: 1.0552 - accuracy: 0.6144 - val_loss: 1.8022 - val_accuracy: 0.4582\n",
            "Epoch 185/200\n",
            "1563/1563 [==============================] - 10s 7ms/step - loss: 1.0474 - accuracy: 0.6183 - val_loss: 1.8544 - val_accuracy: 0.4564\n",
            "Epoch 186/200\n",
            "1563/1563 [==============================] - 11s 7ms/step - loss: 1.0423 - accuracy: 0.6190 - val_loss: 1.8807 - val_accuracy: 0.4507\n",
            "Epoch 187/200\n",
            "1563/1563 [==============================] - 12s 7ms/step - loss: 1.0521 - accuracy: 0.6170 - val_loss: 1.8174 - val_accuracy: 0.4561\n",
            "Epoch 188/200\n",
            "1563/1563 [==============================] - 12s 7ms/step - loss: 1.0459 - accuracy: 0.6187 - val_loss: 1.8525 - val_accuracy: 0.4609\n",
            "Epoch 189/200\n",
            "1563/1563 [==============================] - 12s 8ms/step - loss: 1.0507 - accuracy: 0.6169 - val_loss: 1.8344 - val_accuracy: 0.4580\n",
            "Epoch 190/200\n",
            "1563/1563 [==============================] - 12s 8ms/step - loss: 1.0555 - accuracy: 0.6152 - val_loss: 1.8309 - val_accuracy: 0.4547\n",
            "Epoch 191/200\n",
            "1563/1563 [==============================] - 10s 7ms/step - loss: 1.0484 - accuracy: 0.6194 - val_loss: 1.8778 - val_accuracy: 0.4462\n",
            "Epoch 192/200\n",
            "1563/1563 [==============================] - 11s 7ms/step - loss: 1.0502 - accuracy: 0.6177 - val_loss: 1.8378 - val_accuracy: 0.4614\n",
            "Epoch 193/200\n",
            "1563/1563 [==============================] - 11s 7ms/step - loss: 1.0451 - accuracy: 0.6183 - val_loss: 1.8617 - val_accuracy: 0.4593\n",
            "Epoch 194/200\n",
            "1563/1563 [==============================] - 11s 7ms/step - loss: 1.0431 - accuracy: 0.6192 - val_loss: 1.9015 - val_accuracy: 0.4562\n",
            "Epoch 195/200\n",
            "1563/1563 [==============================] - 12s 8ms/step - loss: 1.0470 - accuracy: 0.6194 - val_loss: 1.8786 - val_accuracy: 0.4539\n",
            "Epoch 196/200\n",
            "1563/1563 [==============================] - 11s 7ms/step - loss: 1.0502 - accuracy: 0.6158 - val_loss: 1.8829 - val_accuracy: 0.4522\n",
            "Epoch 197/200\n",
            "1563/1563 [==============================] - 10s 6ms/step - loss: 1.0447 - accuracy: 0.6186 - val_loss: 1.8547 - val_accuracy: 0.4615\n",
            "Epoch 198/200\n",
            "1563/1563 [==============================] - 11s 7ms/step - loss: 1.0380 - accuracy: 0.6212 - val_loss: 1.8757 - val_accuracy: 0.4548\n",
            "Epoch 199/200\n",
            "1563/1563 [==============================] - 11s 7ms/step - loss: 1.0369 - accuracy: 0.6228 - val_loss: 1.8533 - val_accuracy: 0.4560\n",
            "Epoch 200/200\n",
            "1563/1563 [==============================] - 11s 7ms/step - loss: 1.0409 - accuracy: 0.6225 - val_loss: 1.8480 - val_accuracy: 0.4619\n"
          ]
        },
        {
          "output_type": "execute_result",
          "data": {
            "text/plain": [
              "<keras.src.callbacks.History at 0x7e75123cd930>"
            ]
          },
          "metadata": {},
          "execution_count": 158
        }
      ]
    },
    {
      "cell_type": "code",
      "source": [
        "def plot_random_imeg(model, test_data, classes=class_names):\n",
        "  y_pred = model.predict(test_data)\n",
        "  rand_index = random.randint(0, len(y_pred))\n",
        "  plt.imshow(test_data[rand_index])\n",
        "  predict_labels = class_names[y_pred[rand_index].argmax()]\n",
        "  true_label = class_names[test_label[rand_index][0]]\n",
        "\n",
        "  if true_label == predict_labels:\n",
        "    color = 'green'\n",
        "  else:\n",
        "    color = 'red'\n",
        "\n",
        "  plt.xlabel(\"Pred: {} {:2.0f}% (True: {})\".format(predict_labels,\n",
        "                                                   100*tf.reduce_max(y_pred),\n",
        "                                                   true_label),\n",
        "             color=color)\n"
      ],
      "metadata": {
        "id": "mJrmnu7aeOwV"
      },
      "execution_count": null,
      "outputs": []
    },
    {
      "cell_type": "code",
      "source": [
        "plot_random_imeg(model=model,\n",
        "                 test_data=test_data)"
      ],
      "metadata": {
        "id": "wRE4RawvgOIY"
      },
      "execution_count": null,
      "outputs": []
    }
  ]
}